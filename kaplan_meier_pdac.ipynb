{
 "cells": [
  {
   "cell_type": "markdown",
   "metadata": {},
   "source": [
    "# Kaplan-Meier Plot of PDAC with CPTAC protein expression"
   ]
  },
  {
   "cell_type": "markdown",
   "metadata": {},
   "source": [
    "## Step 1: Import Data and Dependencies"
   ]
  },
  {
   "cell_type": "code",
   "execution_count": 1,
   "metadata": {},
   "outputs": [],
   "source": [
    "import pandas as pd\n",
    "import cptac\n",
    "import cptac.utils as ut\n",
    "import numpy as np\n",
    "import matplotlib.pyplot as plt\n",
    "import seaborn as sns\n",
    "import scipy\n",
    "import lifelines\n",
    "from lifelines import KaplanMeierFitter\n",
    "from lifelines import CoxPHFitter\n",
    "from lifelines.statistics import proportional_hazard_test\n",
    "%matplotlib inline"
   ]
  },
  {
   "cell_type": "code",
   "execution_count": 4,
   "metadata": {},
   "outputs": [
    {
     "name": "stdout",
     "output_type": "stream",
     "text": [
      "                                           \r"
     ]
    },
    {
     "data": {
      "text/plain": [
       "True"
      ]
     },
     "execution_count": 4,
     "metadata": {},
     "output_type": "execute_result"
    }
   ],
   "source": [
    "cptac.download(\"pdac\")"
   ]
  },
  {
   "cell_type": "code",
   "execution_count": 5,
   "metadata": {},
   "outputs": [
    {
     "name": "stdout",
     "output_type": "stream",
     "text": [
      "                                         \r"
     ]
    }
   ],
   "source": [
    "pdac = cptac.Pdac()\n",
    "clinical = pdac.get_clinical()\n",
    "proteomics = pdac.get_proteomics()\n",
    "# follow_up = pdac.get_followup()"
   ]
  },
  {
   "cell_type": "markdown",
   "metadata": {},
   "source": [
    "## Step 2: Gather Data from CPTAC API"
   ]
  },
  {
   "cell_type": "code",
   "execution_count": 20,
   "metadata": {},
   "outputs": [],
   "source": [
    "cols = list(clinical.columns)\n",
    "omics_genes = ['ADO', 'CSAD', 'LRRC8A', 'LRRC8C', 'LRRC8D', 'PHGDH', 'SLC6A6', 'SLC36A1', 'STAT5A', 'STAT5B', 'GGT1', 'GAD2']\n",
    "\n",
    "clinical_and_protein = pdac.join_metadata_to_omics(metadata_df_name=\"clinical\", \n",
    "                                                 omics_df_name=\"proteomics\", \n",
    "                                                 metadata_cols=cols, \n",
    "                                                 omics_genes=omics_genes,\n",
    "                                                 quiet=True)\n",
    "\n",
    "# clinical_and_protein = ut.reduce_multiindex(clinical_and_protein, \n",
    "#                                             levels_to_drop=\"Database_ID\")"
   ]
  },
  {
   "cell_type": "markdown",
   "metadata": {},
   "source": [
    "Next, we will rename the foreign key (\"PPID\" -> \"Patient_ID\") on the follow_up table to allow us to easily join that data with the dataframe of clinical and protein data"
   ]
  },
  {
   "cell_type": "code",
   "execution_count": 29,
   "metadata": {},
   "outputs": [],
   "source": [
    "#Determine columns to focus on, and create a subset to work with\n",
    "columns_to_focus_on = ['follow_up_days',\n",
    "                       'vital_status',\n",
    "                      'tumor_stage_pathological']\n",
    "\n",
    "#This adds the protein data that we got from the clinical and proteomics join\n",
    "#so that it will be present in our subset of data to work with\n",
    "for i in range(len(omics_genes)):\n",
    "    if not omics_genes[i].endswith('_proteomics'):\n",
    "        omics_genes[i] += '_proteomics'\n",
    "        \n",
    "    columns_to_focus_on.append(omics_genes[i])\n",
    "\n",
    "focus_group = clinical_and_protein[columns_to_focus_on].copy().drop_duplicates()\n",
    "focus_group = focus_group[~np.isnan(focus_group['follow_up_days'])]"
   ]
  },
  {
   "cell_type": "markdown",
   "metadata": {},
   "source": [
    "## Step 3: Kaplan Meier Plotting\n",
    "Kaplan Meier plots show us the probability of some event occuring over a given length of time, based on some attribute(s).  Oftentimes, they are used to plot the probability of death for clinical attributes, however they could also be used in a variety of other contexts. "
   ]
  },
  {
   "cell_type": "markdown",
   "metadata": {},
   "source": [
    "We will start by finding all patients that have died during the follow-up period and update the column to contain boolean values, where True denotes that the event occurred ('Deceased'), and False denotes that it did not ('Living').  We will then combine the two columns containing timeframe data ('Days_Between_Collection_And_Last_Contact', and 'Days_Between_Collection_And_Death'), to help us with plotting survival curves. These steps are necessary to fit the requirements of the *lifelines* package."
   ]
  },
  {
   "cell_type": "code",
   "execution_count": 30,
   "metadata": {},
   "outputs": [],
   "source": [
    "#Make the Vital Status column boolean\n",
    "focus_group['vital_status'] = focus_group['vital_status'].replace('Living', False)\n",
    "focus_group['vital_status'] = focus_group['vital_status'].replace('Deceased', True)\n",
    "focus_group['vital_status'] = focus_group['vital_status'].astype('bool')"
   ]
  },
  {
   "cell_type": "markdown",
   "metadata": {},
   "source": [
    "Next, we will create a general Kaplan Meier Plot of overall survival for our cohort, using the KaplanMeierFitter() from the *lifelines* package."
   ]
  },
  {
   "cell_type": "code",
   "execution_count": 31,
   "metadata": {},
   "outputs": [
    {
     "data": {
      "text/plain": [
       "<AxesSubplot:xlabel='timeline'>"
      ]
     },
     "execution_count": 31,
     "metadata": {},
     "output_type": "execute_result"
    },
    {
     "data": {
      "image/png": "[encoded data removed]",
      "text/plain": [
       "<Figure size 432x288 with 1 Axes>"
      ]
     },
     "metadata": {
      "needs_background": "light"
     },
     "output_type": "display_data"
    }
   ],
   "source": [
    "time = focus_group['follow_up_days']\n",
    "status = focus_group['vital_status']\n",
    "\n",
    "kmf = KaplanMeierFitter()\n",
    "kmf.fit(time, event_observed = status)\n",
    "kmf.plot()"
   ]
  },
  {
   "cell_type": "markdown",
   "metadata": {},
   "source": [
    "# Step 4 Prepare Data for Multivariate Kaplan Meier Plots and Cox's Proportional Hazard Test\n",
    "We will now group our columns of interest into 3-4 distinct categories each, and assign them numeric values.  It is necessary for the requirements of the *lifelines* package that the categories are assigned numeric values (other data types, including category, are not compatible with the functions we will be using)."
   ]
  },
  {
   "cell_type": "code",
   "execution_count": 32,
   "metadata": {},
   "outputs": [],
   "source": [
    "df_genes = focus_group.copy()\n",
    "\n",
    "#Here, we are separating the protein abundance values for each of our proteins\n",
    "#of interest into 3 groups, based on relative abundance of the protein\n",
    "for col in omics_genes:\n",
    "    lower_25_filter = df_genes[col] <= df_genes[col].quantile(.25)\n",
    "    upper_25_filter = df_genes[col] >= df_genes[col].quantile(.75)\n",
    "\n",
    "    df_genes[col] = np.where(lower_25_filter, \"Lower_25%\", df_genes[col])\n",
    "    df_genes[col] = np.where(upper_25_filter, \"Upper_25%\", df_genes[col])\n",
    "    df_genes[col] = np.where(~lower_25_filter & ~upper_25_filter, \"Middle_50%\", df_genes[col])"
   ]
  },
  {
   "cell_type": "code",
   "execution_count": 33,
   "metadata": {},
   "outputs": [],
   "source": [
    "#Here, we map numeric values to correspond with our 3 protein categories\n",
    "proteomics_map = {\"Lower_25%\" : 1, \"Middle_50%\" : 2, \"Upper_25%\" : 3}\n",
    "for gene in omics_genes:\n",
    "    df_genes[gene] = df_genes[gene].map(proteomics_map)"
   ]
  },
  {
   "cell_type": "code",
   "execution_count": 35,
   "metadata": {},
   "outputs": [],
   "source": [
    "#Here we map numeric values to corresponding tumor stages\n",
    "stage_map = {\"Stage IA\" : 1, \"Stage IB\" : 1,\n",
    "             \"Stage IIA\": 2, \"Stage IIB\" : 2,\n",
    "             \"Stage III\": 3,\n",
    "             \"Stage IV\": 4, \n",
    "             \"NA\" : np.nan}\n",
    "\n",
    "df_genes['tumor_stage_pathological'] = df_genes['tumor_stage_pathological'].map(stage_map)"
   ]
  },
  {
   "cell_type": "code",
   "execution_count": 36,
   "metadata": {},
   "outputs": [],
   "source": [
    "#Then we will drop missing values, as missing values \n",
    "# will throw an error in the lifelines functions\n",
    "df_clean = df_genes.dropna(axis=0, how='any').copy()"
   ]
  },
  {
   "cell_type": "markdown",
   "metadata": {},
   "source": [
    "Verify that your columns are the correct data types.  They may appear to be correct up front, but could actually be hidden as slightly different data types. The event of interest, in this case *vital_status* needs to contain boolean values, and all other columns in the table must be of a numeric type (either int64 or float64)."
   ]
  },
  {
   "cell_type": "code",
   "execution_count": 37,
   "metadata": {},
   "outputs": [
    {
     "name": "stdout",
     "output_type": "stream",
     "text": [
      "follow_up_days : float64\n",
      "vital_status : bool\n",
      "tumor_stage_pathological : float64\n",
      "ADO_proteomics : int64\n",
      "CSAD_proteomics : int64\n",
      "LRRC8A_proteomics : int64\n",
      "LRRC8C_proteomics : int64\n",
      "LRRC8D_proteomics : int64\n",
      "PHGDH_proteomics : int64\n",
      "SLC6A6_proteomics : int64\n",
      "SLC36A1_proteomics : int64\n",
      "STAT5A_proteomics : int64\n",
      "STAT5B_proteomics : int64\n",
      "GGT1_proteomics : int64\n",
      "GAD2_proteomics : int64\n"
     ]
    }
   ],
   "source": [
    "for col in df_clean.columns:\n",
    "    print(col, \":\", df_clean[col].dtype)"
   ]
  },
  {
   "cell_type": "code",
   "execution_count": 38,
   "metadata": {},
   "outputs": [
    {
     "data": {
      "text/html": [
       "<div>\n",
       "<style scoped>\n",
       "    .dataframe tbody tr th:only-of-type {\n",
       "        vertical-align: middle;\n",
       "    }\n",
       "\n",
       "    .dataframe tbody tr th {\n",
       "        vertical-align: top;\n",
       "    }\n",
       "\n",
       "    .dataframe thead th {\n",
       "        text-align: right;\n",
       "    }\n",
       "</style>\n",
       "<table border=\"1\" class=\"dataframe\">\n",
       "  <thead>\n",
       "    <tr style=\"text-align: right;\">\n",
       "      <th>Name</th>\n",
       "      <th>follow_up_days</th>\n",
       "      <th>vital_status</th>\n",
       "      <th>tumor_stage_pathological</th>\n",
       "      <th>ADO_proteomics</th>\n",
       "      <th>CSAD_proteomics</th>\n",
       "      <th>LRRC8A_proteomics</th>\n",
       "      <th>LRRC8C_proteomics</th>\n",
       "      <th>LRRC8D_proteomics</th>\n",
       "      <th>PHGDH_proteomics</th>\n",
       "      <th>SLC6A6_proteomics</th>\n",
       "      <th>SLC36A1_proteomics</th>\n",
       "      <th>STAT5A_proteomics</th>\n",
       "      <th>STAT5B_proteomics</th>\n",
       "      <th>GGT1_proteomics</th>\n",
       "      <th>GAD2_proteomics</th>\n",
       "    </tr>\n",
       "    <tr>\n",
       "      <th>Patient_ID</th>\n",
       "      <th></th>\n",
       "      <th></th>\n",
       "      <th></th>\n",
       "      <th></th>\n",
       "      <th></th>\n",
       "      <th></th>\n",
       "      <th></th>\n",
       "      <th></th>\n",
       "      <th></th>\n",
       "      <th></th>\n",
       "      <th></th>\n",
       "      <th></th>\n",
       "      <th></th>\n",
       "      <th></th>\n",
       "      <th></th>\n",
       "    </tr>\n",
       "  </thead>\n",
       "  <tbody>\n",
       "    <tr>\n",
       "      <th>C3L-00017</th>\n",
       "      <td>426.0</td>\n",
       "      <td>False</td>\n",
       "      <td>2.0</td>\n",
       "      <td>2</td>\n",
       "      <td>2</td>\n",
       "      <td>2</td>\n",
       "      <td>1</td>\n",
       "      <td>1</td>\n",
       "      <td>1</td>\n",
       "      <td>2</td>\n",
       "      <td>1</td>\n",
       "      <td>2</td>\n",
       "      <td>1</td>\n",
       "      <td>3</td>\n",
       "      <td>2</td>\n",
       "    </tr>\n",
       "    <tr>\n",
       "      <th>C3L-00102</th>\n",
       "      <td>249.0</td>\n",
       "      <td>True</td>\n",
       "      <td>3.0</td>\n",
       "      <td>2</td>\n",
       "      <td>3</td>\n",
       "      <td>2</td>\n",
       "      <td>3</td>\n",
       "      <td>2</td>\n",
       "      <td>1</td>\n",
       "      <td>2</td>\n",
       "      <td>2</td>\n",
       "      <td>2</td>\n",
       "      <td>3</td>\n",
       "      <td>3</td>\n",
       "      <td>2</td>\n",
       "    </tr>\n",
       "    <tr>\n",
       "      <th>C3L-00189</th>\n",
       "      <td>1035.0</td>\n",
       "      <td>True</td>\n",
       "      <td>2.0</td>\n",
       "      <td>2</td>\n",
       "      <td>2</td>\n",
       "      <td>2</td>\n",
       "      <td>2</td>\n",
       "      <td>2</td>\n",
       "      <td>1</td>\n",
       "      <td>2</td>\n",
       "      <td>2</td>\n",
       "      <td>2</td>\n",
       "      <td>2</td>\n",
       "      <td>2</td>\n",
       "      <td>2</td>\n",
       "    </tr>\n",
       "    <tr>\n",
       "      <th>C3L-00277</th>\n",
       "      <td>610.0</td>\n",
       "      <td>True</td>\n",
       "      <td>2.0</td>\n",
       "      <td>3</td>\n",
       "      <td>2</td>\n",
       "      <td>2</td>\n",
       "      <td>2</td>\n",
       "      <td>2</td>\n",
       "      <td>3</td>\n",
       "      <td>2</td>\n",
       "      <td>2</td>\n",
       "      <td>2</td>\n",
       "      <td>1</td>\n",
       "      <td>1</td>\n",
       "      <td>3</td>\n",
       "    </tr>\n",
       "    <tr>\n",
       "      <th>C3L-00401</th>\n",
       "      <td>1228.0</td>\n",
       "      <td>False</td>\n",
       "      <td>2.0</td>\n",
       "      <td>2</td>\n",
       "      <td>2</td>\n",
       "      <td>1</td>\n",
       "      <td>3</td>\n",
       "      <td>2</td>\n",
       "      <td>2</td>\n",
       "      <td>2</td>\n",
       "      <td>2</td>\n",
       "      <td>3</td>\n",
       "      <td>2</td>\n",
       "      <td>1</td>\n",
       "      <td>2</td>\n",
       "    </tr>\n",
       "  </tbody>\n",
       "</table>\n",
       "</div>"
      ],
      "text/plain": [
       "Name        follow_up_days  vital_status  tumor_stage_pathological  \\\n",
       "Patient_ID                                                           \n",
       "C3L-00017            426.0         False                       2.0   \n",
       "C3L-00102            249.0          True                       3.0   \n",
       "C3L-00189           1035.0          True                       2.0   \n",
       "C3L-00277            610.0          True                       2.0   \n",
       "C3L-00401           1228.0         False                       2.0   \n",
       "\n",
       "Name        ADO_proteomics  CSAD_proteomics  LRRC8A_proteomics  \\\n",
       "Patient_ID                                                       \n",
       "C3L-00017                2                2                  2   \n",
       "C3L-00102                2                3                  2   \n",
       "C3L-00189                2                2                  2   \n",
       "C3L-00277                3                2                  2   \n",
       "C3L-00401                2                2                  1   \n",
       "\n",
       "Name        LRRC8C_proteomics  LRRC8D_proteomics  PHGDH_proteomics  \\\n",
       "Patient_ID                                                           \n",
       "C3L-00017                   1                  1                 1   \n",
       "C3L-00102                   3                  2                 1   \n",
       "C3L-00189                   2                  2                 1   \n",
       "C3L-00277                   2                  2                 3   \n",
       "C3L-00401                   3                  2                 2   \n",
       "\n",
       "Name        SLC6A6_proteomics  SLC36A1_proteomics  STAT5A_proteomics  \\\n",
       "Patient_ID                                                             \n",
       "C3L-00017                   2                   1                  2   \n",
       "C3L-00102                   2                   2                  2   \n",
       "C3L-00189                   2                   2                  2   \n",
       "C3L-00277                   2                   2                  2   \n",
       "C3L-00401                   2                   2                  3   \n",
       "\n",
       "Name        STAT5B_proteomics  GGT1_proteomics  GAD2_proteomics  \n",
       "Patient_ID                                                       \n",
       "C3L-00017                   1                3                2  \n",
       "C3L-00102                   3                3                2  \n",
       "C3L-00189                   2                2                2  \n",
       "C3L-00277                   1                1                3  \n",
       "C3L-00401                   2                1                2  "
      ]
     },
     "execution_count": 38,
     "metadata": {},
     "output_type": "execute_result"
    }
   ],
   "source": [
    "df_clean.head()"
   ]
  },
  {
   "cell_type": "markdown",
   "metadata": {},
   "source": [
    "# Step 5: Multivariate Survival Risk Plotting\n",
    "\n",
    "With the CoxPHFitter from the lifelines package we can create covariate survival plots, as shown below.  The variables we are interested in exploring are Tumor Stage, RAC2 abundance, and PODXL  abundance."
   ]
  },
  {
   "cell_type": "markdown",
   "metadata": {},
   "source": [
    "First we will fit our model to the data we have prepared using the CoxPHFitter() class from the lifelines module."
   ]
  },
  {
   "cell_type": "code",
   "execution_count": 39,
   "metadata": {},
   "outputs": [
    {
     "data": {
      "text/plain": [
       "<lifelines.CoxPHFitter: fitted with 131 total observations, 57 right-censored observations>"
      ]
     },
     "execution_count": 39,
     "metadata": {},
     "output_type": "execute_result"
    }
   ],
   "source": [
    "cph = CoxPHFitter()\n",
    "cph.fit(df_clean, duration_col = \"follow_up_days\", \n",
    "        event_col = \"vital_status\")"
   ]
  },
  {
   "cell_type": "markdown",
   "metadata": {},
   "source": [
    "Then we will plot each of the attributes to see how different levels of protein or different tumor stages affect survival outcomes in Ovarian Cancer patients."
   ]
  },
  {
   "cell_type": "code",
   "execution_count": 40,
   "metadata": {},
   "outputs": [],
   "source": [
    "attributes = ['tumor_stage_pathological', 'ADO_proteomics', 'CSAD_proteomics', 'GGT1_proteomics']"
   ]
  },
  {
   "cell_type": "code",
   "execution_count": 44,
   "metadata": {},
   "outputs": [
    {
     "data": {
      "image/png": "[encoded data removed]",
      "text/plain": [
       "<Figure size 432x288 with 1 Axes>"
      ]
     },
     "metadata": {
      "needs_background": "light"
     },
     "output_type": "display_data"
    },
    {
     "data": {
      "image/png": "[encoded data removed]",
      "text/plain": [
       "<Figure size 432x288 with 1 Axes>"
      ]
     },
     "metadata": {
      "needs_background": "light"
     },
     "output_type": "display_data"
    },
    {
     "data": {
      "image/png": "[encoded data removed]",
      "text/plain": [
       "<Figure size 432x288 with 1 Axes>"
      ]
     },
     "metadata": {
      "needs_background": "light"
     },
     "output_type": "display_data"
    },
    {
     "data": {
      "image/png": "[encoded data removed]",
      "text/plain": [
       "<Figure size 432x288 with 1 Axes>"
      ]
     },
     "metadata": {
      "needs_background": "light"
     },
     "output_type": "display_data"
    }
   ],
   "source": [
    "for attribute in attributes:\n",
    "    if attribute == 'tumor_stage_pathological':\n",
    "        num_cat = 4\n",
    "    else:\n",
    "        num_cat = 3\n",
    "    plot_title = \"PDAC Survival Risk: \" + attribute\n",
    "    cph.plot_partial_effects_on_outcome(attribute, range(1,num_cat+1), cmap='coolwarm', \n",
    "                          title=plot_title)"
   ]
  },
  {
   "cell_type": "markdown",
   "metadata": {},
   "source": [
    "# Results\n",
    "These different analyses tend to follow the baseline survival function, however, there are some differences in varying levels of each attribute. For example, FIGO Stage I tumors tend to have a higher survival rate over time comparatively to Stage III tumors.  We can explore these differences with the CoxPHFitter object's *print_summary* function (which prints out results for multivariate linear regression)."
   ]
  },
  {
   "cell_type": "code",
   "execution_count": 45,
   "metadata": {},
   "outputs": [
    {
     "name": "stderr",
     "output_type": "stream",
     "text": [
      "/Users/hoonsik/opt/anaconda3/envs/cptac-final/lib/python3.8/site-packages/lifelines/utils/printer.py:62: FutureWarning: In future versions `DataFrame.to_latex` is expected to utilise the base implementation of `Styler.to_latex` for formatting and rendering. The arguments signature may therefore change. It is recommended instead to use `DataFrame.style.to_latex` which also contains additional functionality.\n",
      "  return summary_df[columns].to_latex(float_format=\"%.\" + str(self.decimals) + \"f\")\n"
     ]
    },
    {
     "data": {
      "text/html": [
       "<div>\n",
       "<style scoped>\n",
       "    .dataframe tbody tr th:only-of-type {\n",
       "        vertical-align: middle;\n",
       "    }\n",
       "\n",
       "    .dataframe tbody tr th {\n",
       "        vertical-align: top;\n",
       "    }\n",
       "\n",
       "    .dataframe thead th {\n",
       "        text-align: right;\n",
       "    }\n",
       "</style>\n",
       "<table border=\"1\" class=\"dataframe\">\n",
       "  <tbody>\n",
       "    <tr>\n",
       "      <th>model</th>\n",
       "      <td>lifelines.CoxPHFitter</td>\n",
       "    </tr>\n",
       "    <tr>\n",
       "      <th>duration col</th>\n",
       "      <td>'follow_up_days'</td>\n",
       "    </tr>\n",
       "    <tr>\n",
       "      <th>event col</th>\n",
       "      <td>'vital_status'</td>\n",
       "    </tr>\n",
       "    <tr>\n",
       "      <th>baseline estimation</th>\n",
       "      <td>breslow</td>\n",
       "    </tr>\n",
       "    <tr>\n",
       "      <th>number of observations</th>\n",
       "      <td>131</td>\n",
       "    </tr>\n",
       "    <tr>\n",
       "      <th>number of events observed</th>\n",
       "      <td>74</td>\n",
       "    </tr>\n",
       "    <tr>\n",
       "      <th>partial log-likelihood</th>\n",
       "      <td>-296.428</td>\n",
       "    </tr>\n",
       "    <tr>\n",
       "      <th>time fit was run</th>\n",
       "      <td>2022-07-31 16:32:25 UTC</td>\n",
       "    </tr>\n",
       "    <tr>\n",
       "      <th>model</th>\n",
       "      <td>untransformed variables</td>\n",
       "    </tr>\n",
       "  </tbody>\n",
       "</table>\n",
       "</div><table border=\"1\" class=\"dataframe\">\n",
       "  <thead>\n",
       "    <tr style=\"text-align: right;\">\n",
       "      <th style=\"min-width: 12px;\"></th>\n",
       "      <th style=\"min-width: 12px;\">coef</th>\n",
       "      <th style=\"min-width: 12px;\">exp(coef)</th>\n",
       "      <th style=\"min-width: 12px;\">se(coef)</th>\n",
       "      <th style=\"min-width: 12px;\">coef lower 95%</th>\n",
       "      <th style=\"min-width: 12px;\">coef upper 95%</th>\n",
       "      <th style=\"min-width: 12px;\">exp(coef) lower 95%</th>\n",
       "      <th style=\"min-width: 12px;\">exp(coef) upper 95%</th>\n",
       "      <th style=\"min-width: 12px;\">cmp to</th>\n",
       "      <th style=\"min-width: 12px;\">z</th>\n",
       "      <th style=\"min-width: 12px;\">p</th>\n",
       "      <th style=\"min-width: 12px;\">-log2(p)</th>\n",
       "    </tr>\n",
       "  </thead>\n",
       "  <tbody>\n",
       "    <tr>\n",
       "      <th>tumor_stage_pathological</th>\n",
       "      <td>0.434</td>\n",
       "      <td>1.544</td>\n",
       "      <td>0.166</td>\n",
       "      <td>0.108</td>\n",
       "      <td>0.761</td>\n",
       "      <td>1.114</td>\n",
       "      <td>2.140</td>\n",
       "      <td>0.000</td>\n",
       "      <td>2.611</td>\n",
       "      <td>0.009</td>\n",
       "      <td>6.789</td>\n",
       "    </tr>\n",
       "    <tr>\n",
       "      <th>ADO_proteomics</th>\n",
       "      <td>-0.206</td>\n",
       "      <td>0.814</td>\n",
       "      <td>0.180</td>\n",
       "      <td>-0.559</td>\n",
       "      <td>0.148</td>\n",
       "      <td>0.572</td>\n",
       "      <td>1.159</td>\n",
       "      <td>0.000</td>\n",
       "      <td>-1.140</td>\n",
       "      <td>0.254</td>\n",
       "      <td>1.976</td>\n",
       "    </tr>\n",
       "    <tr>\n",
       "      <th>CSAD_proteomics</th>\n",
       "      <td>0.580</td>\n",
       "      <td>1.786</td>\n",
       "      <td>0.383</td>\n",
       "      <td>-0.171</td>\n",
       "      <td>1.331</td>\n",
       "      <td>0.843</td>\n",
       "      <td>3.784</td>\n",
       "      <td>0.000</td>\n",
       "      <td>1.514</td>\n",
       "      <td>0.130</td>\n",
       "      <td>2.944</td>\n",
       "    </tr>\n",
       "    <tr>\n",
       "      <th>LRRC8A_proteomics</th>\n",
       "      <td>0.129</td>\n",
       "      <td>1.137</td>\n",
       "      <td>0.185</td>\n",
       "      <td>-0.233</td>\n",
       "      <td>0.491</td>\n",
       "      <td>0.792</td>\n",
       "      <td>1.634</td>\n",
       "      <td>0.000</td>\n",
       "      <td>0.697</td>\n",
       "      <td>0.486</td>\n",
       "      <td>1.041</td>\n",
       "    </tr>\n",
       "    <tr>\n",
       "      <th>LRRC8C_proteomics</th>\n",
       "      <td>-0.445</td>\n",
       "      <td>0.641</td>\n",
       "      <td>0.244</td>\n",
       "      <td>-0.924</td>\n",
       "      <td>0.034</td>\n",
       "      <td>0.397</td>\n",
       "      <td>1.035</td>\n",
       "      <td>0.000</td>\n",
       "      <td>-1.821</td>\n",
       "      <td>0.069</td>\n",
       "      <td>3.866</td>\n",
       "    </tr>\n",
       "    <tr>\n",
       "      <th>LRRC8D_proteomics</th>\n",
       "      <td>0.123</td>\n",
       "      <td>1.130</td>\n",
       "      <td>0.283</td>\n",
       "      <td>-0.433</td>\n",
       "      <td>0.678</td>\n",
       "      <td>0.649</td>\n",
       "      <td>1.970</td>\n",
       "      <td>0.000</td>\n",
       "      <td>0.433</td>\n",
       "      <td>0.665</td>\n",
       "      <td>0.588</td>\n",
       "    </tr>\n",
       "    <tr>\n",
       "      <th>PHGDH_proteomics</th>\n",
       "      <td>0.200</td>\n",
       "      <td>1.222</td>\n",
       "      <td>0.170</td>\n",
       "      <td>-0.134</td>\n",
       "      <td>0.534</td>\n",
       "      <td>0.875</td>\n",
       "      <td>1.706</td>\n",
       "      <td>0.000</td>\n",
       "      <td>1.176</td>\n",
       "      <td>0.240</td>\n",
       "      <td>2.061</td>\n",
       "    </tr>\n",
       "    <tr>\n",
       "      <th>SLC6A6_proteomics</th>\n",
       "      <td>-0.452</td>\n",
       "      <td>0.636</td>\n",
       "      <td>0.389</td>\n",
       "      <td>-1.215</td>\n",
       "      <td>0.311</td>\n",
       "      <td>0.297</td>\n",
       "      <td>1.365</td>\n",
       "      <td>0.000</td>\n",
       "      <td>-1.161</td>\n",
       "      <td>0.246</td>\n",
       "      <td>2.025</td>\n",
       "    </tr>\n",
       "    <tr>\n",
       "      <th>SLC36A1_proteomics</th>\n",
       "      <td>0.649</td>\n",
       "      <td>1.914</td>\n",
       "      <td>0.381</td>\n",
       "      <td>-0.098</td>\n",
       "      <td>1.396</td>\n",
       "      <td>0.907</td>\n",
       "      <td>4.040</td>\n",
       "      <td>0.000</td>\n",
       "      <td>1.703</td>\n",
       "      <td>0.089</td>\n",
       "      <td>3.496</td>\n",
       "    </tr>\n",
       "    <tr>\n",
       "      <th>STAT5A_proteomics</th>\n",
       "      <td>-0.051</td>\n",
       "      <td>0.951</td>\n",
       "      <td>0.183</td>\n",
       "      <td>-0.410</td>\n",
       "      <td>0.309</td>\n",
       "      <td>0.664</td>\n",
       "      <td>1.362</td>\n",
       "      <td>0.000</td>\n",
       "      <td>-0.276</td>\n",
       "      <td>0.783</td>\n",
       "      <td>0.353</td>\n",
       "    </tr>\n",
       "    <tr>\n",
       "      <th>STAT5B_proteomics</th>\n",
       "      <td>-0.240</td>\n",
       "      <td>0.787</td>\n",
       "      <td>0.200</td>\n",
       "      <td>-0.632</td>\n",
       "      <td>0.152</td>\n",
       "      <td>0.532</td>\n",
       "      <td>1.164</td>\n",
       "      <td>0.000</td>\n",
       "      <td>-1.199</td>\n",
       "      <td>0.231</td>\n",
       "      <td>2.116</td>\n",
       "    </tr>\n",
       "    <tr>\n",
       "      <th>GGT1_proteomics</th>\n",
       "      <td>-0.024</td>\n",
       "      <td>0.976</td>\n",
       "      <td>0.191</td>\n",
       "      <td>-0.398</td>\n",
       "      <td>0.350</td>\n",
       "      <td>0.671</td>\n",
       "      <td>1.418</td>\n",
       "      <td>0.000</td>\n",
       "      <td>-0.128</td>\n",
       "      <td>0.898</td>\n",
       "      <td>0.155</td>\n",
       "    </tr>\n",
       "    <tr>\n",
       "      <th>GAD2_proteomics</th>\n",
       "      <td>0.034</td>\n",
       "      <td>1.034</td>\n",
       "      <td>0.244</td>\n",
       "      <td>-0.445</td>\n",
       "      <td>0.513</td>\n",
       "      <td>0.641</td>\n",
       "      <td>1.669</td>\n",
       "      <td>0.000</td>\n",
       "      <td>0.138</td>\n",
       "      <td>0.890</td>\n",
       "      <td>0.168</td>\n",
       "    </tr>\n",
       "  </tbody>\n",
       "</table><br><div>\n",
       "<style scoped>\n",
       "    .dataframe tbody tr th:only-of-type {\n",
       "        vertical-align: middle;\n",
       "    }\n",
       "\n",
       "    .dataframe tbody tr th {\n",
       "        vertical-align: top;\n",
       "    }\n",
       "\n",
       "    .dataframe thead th {\n",
       "        text-align: right;\n",
       "    }\n",
       "</style>\n",
       "<table border=\"1\" class=\"dataframe\">\n",
       "  <tbody>\n",
       "    <tr>\n",
       "      <th>Concordance</th>\n",
       "      <td>0.653</td>\n",
       "    </tr>\n",
       "    <tr>\n",
       "      <th>Partial AIC</th>\n",
       "      <td>618.855</td>\n",
       "    </tr>\n",
       "    <tr>\n",
       "      <th>log-likelihood ratio test</th>\n",
       "      <td>23.652 on 13 df</td>\n",
       "    </tr>\n",
       "    <tr>\n",
       "      <th>-log2(p) of ll-ratio test</th>\n",
       "      <td>4.858</td>\n",
       "    </tr>\n",
       "  </tbody>\n",
       "</table>\n",
       "</div>"
      ],
      "text/latex": [
       "\\begin{tabular}{lrrrrrrrrrrr}\n",
       "\\toprule\n",
       "{} &   coef &  exp(coef) &  se(coef) &  coef lower 95\\% &  coef upper 95\\% &  exp(coef) lower 95\\% &  exp(coef) upper 95\\% &  cmp to &      z &     p &  -log2(p) \\\\\n",
       "covariate                &        &            &           &                 &                 &                      &                      &         &        &       &           \\\\\n",
       "\\midrule\n",
       "tumor\\_stage\\_pathological &  0.434 &      1.544 &     0.166 &           0.108 &           0.761 &                1.114 &                2.140 &   0.000 &  2.611 & 0.009 &     6.789 \\\\\n",
       "ADO\\_proteomics           & -0.206 &      0.814 &     0.180 &          -0.559 &           0.148 &                0.572 &                1.159 &   0.000 & -1.140 & 0.254 &     1.976 \\\\\n",
       "CSAD\\_proteomics          &  0.580 &      1.786 &     0.383 &          -0.171 &           1.331 &                0.843 &                3.784 &   0.000 &  1.514 & 0.130 &     2.944 \\\\\n",
       "LRRC8A\\_proteomics        &  0.129 &      1.137 &     0.185 &          -0.233 &           0.491 &                0.792 &                1.634 &   0.000 &  0.697 & 0.486 &     1.041 \\\\\n",
       "LRRC8C\\_proteomics        & -0.445 &      0.641 &     0.244 &          -0.924 &           0.034 &                0.397 &                1.035 &   0.000 & -1.821 & 0.069 &     3.866 \\\\\n",
       "LRRC8D\\_proteomics        &  0.123 &      1.130 &     0.283 &          -0.433 &           0.678 &                0.649 &                1.970 &   0.000 &  0.433 & 0.665 &     0.588 \\\\\n",
       "PHGDH\\_proteomics         &  0.200 &      1.222 &     0.170 &          -0.134 &           0.534 &                0.875 &                1.706 &   0.000 &  1.176 & 0.240 &     2.061 \\\\\n",
       "SLC6A6\\_proteomics        & -0.452 &      0.636 &     0.389 &          -1.215 &           0.311 &                0.297 &                1.365 &   0.000 & -1.161 & 0.246 &     2.025 \\\\\n",
       "SLC36A1\\_proteomics       &  0.649 &      1.914 &     0.381 &          -0.098 &           1.396 &                0.907 &                4.040 &   0.000 &  1.703 & 0.089 &     3.496 \\\\\n",
       "STAT5A\\_proteomics        & -0.051 &      0.951 &     0.183 &          -0.410 &           0.309 &                0.664 &                1.362 &   0.000 & -0.276 & 0.783 &     0.353 \\\\\n",
       "STAT5B\\_proteomics        & -0.240 &      0.787 &     0.200 &          -0.632 &           0.152 &                0.532 &                1.164 &   0.000 & -1.199 & 0.231 &     2.116 \\\\\n",
       "GGT1\\_proteomics          & -0.024 &      0.976 &     0.191 &          -0.398 &           0.350 &                0.671 &                1.418 &   0.000 & -0.128 & 0.898 &     0.155 \\\\\n",
       "GAD2\\_proteomics          &  0.034 &      1.034 &     0.244 &          -0.445 &           0.513 &                0.641 &                1.669 &   0.000 &  0.138 & 0.890 &     0.168 \\\\\n",
       "\\bottomrule\n",
       "\\end{tabular}\n"
      ],
      "text/plain": [
       "<lifelines.CoxPHFitter: fitted with 131 total observations, 57 right-censored observations>\n",
       "             duration col = 'follow_up_days'\n",
       "                event col = 'vital_status'\n",
       "      baseline estimation = breslow\n",
       "   number of observations = 131\n",
       "number of events observed = 74\n",
       "   partial log-likelihood = -296.428\n",
       "         time fit was run = 2022-07-31 16:32:25 UTC\n",
       "                    model = untransformed variables\n",
       "\n",
       "---\n",
       "                           coef  exp(coef)   se(coef)   coef lower 95%   coef upper 95%  exp(coef) lower 95%  exp(coef) upper 95%\n",
       "covariate                                                                                                                        \n",
       "tumor_stage_pathological  0.434      1.544      0.166            0.108            0.761                1.114                2.140\n",
       "ADO_proteomics           -0.206      0.814      0.180           -0.559            0.148                0.572                1.159\n",
       "CSAD_proteomics           0.580      1.786      0.383           -0.171            1.331                0.843                3.784\n",
       "LRRC8A_proteomics         0.129      1.137      0.185           -0.233            0.491                0.792                1.634\n",
       "LRRC8C_proteomics        -0.445      0.641      0.244           -0.924            0.034                0.397                1.035\n",
       "LRRC8D_proteomics         0.123      1.130      0.283           -0.433            0.678                0.649                1.970\n",
       "PHGDH_proteomics          0.200      1.222      0.170           -0.134            0.534                0.875                1.706\n",
       "SLC6A6_proteomics        -0.452      0.636      0.389           -1.215            0.311                0.297                1.365\n",
       "SLC36A1_proteomics        0.649      1.914      0.381           -0.098            1.396                0.907                4.040\n",
       "STAT5A_proteomics        -0.051      0.951      0.183           -0.410            0.309                0.664                1.362\n",
       "STAT5B_proteomics        -0.240      0.787      0.200           -0.632            0.152                0.532                1.164\n",
       "GGT1_proteomics          -0.024      0.976      0.191           -0.398            0.350                0.671                1.418\n",
       "GAD2_proteomics           0.034      1.034      0.244           -0.445            0.513                0.641                1.669\n",
       "\n",
       "                           cmp to      z     p   -log2(p)\n",
       "covariate                                                \n",
       "tumor_stage_pathological    0.000  2.611 0.009      6.789\n",
       "ADO_proteomics              0.000 -1.140 0.254      1.976\n",
       "CSAD_proteomics             0.000  1.514 0.130      2.944\n",
       "LRRC8A_proteomics           0.000  0.697 0.486      1.041\n",
       "LRRC8C_proteomics           0.000 -1.821 0.069      3.866\n",
       "LRRC8D_proteomics           0.000  0.433 0.665      0.588\n",
       "PHGDH_proteomics            0.000  1.176 0.240      2.061\n",
       "SLC6A6_proteomics           0.000 -1.161 0.246      2.025\n",
       "SLC36A1_proteomics          0.000  1.703 0.089      3.496\n",
       "STAT5A_proteomics           0.000 -0.276 0.783      0.353\n",
       "STAT5B_proteomics           0.000 -1.199 0.231      2.116\n",
       "GGT1_proteomics             0.000 -0.128 0.898      0.155\n",
       "GAD2_proteomics             0.000  0.138 0.890      0.168\n",
       "---\n",
       "Concordance = 0.653\n",
       "Partial AIC = 618.855\n",
       "log-likelihood ratio test = 23.652 on 13 df\n",
       "-log2(p) of ll-ratio test = 4.858"
      ]
     },
     "metadata": {},
     "output_type": "display_data"
    }
   ],
   "source": [
    "cph.print_summary(model=\"untransformed variables\", decimals=3)"
   ]
  },
  {
   "cell_type": "markdown",
   "metadata": {},
   "source": [
    "# Step 6 Cox's Proportional Hazard Test\n",
    "With the *proportional_hazard_test* function, we can now perform Cox's Proportional Hazard Test on the data to determine how each attribute contributes to our cohort's overall survival.  This is shown by the hazard ratio in the column labeled *-log2(p)* below.  In general, a hazard ratio of 1 suggests that an attribute has no effect on overall survival.  A ratio less than 1 suggests that an attribute contributes to lower survival risk.  A ratio greater than 1 suggests that an attribute contributes to higher survival risk."
   ]
  },
  {
   "cell_type": "code",
   "execution_count": 46,
   "metadata": {},
   "outputs": [
    {
     "name": "stderr",
     "output_type": "stream",
     "text": [
      "/Users/hoonsik/opt/anaconda3/envs/cptac-final/lib/python3.8/site-packages/lifelines/statistics.py:143: FutureWarning: In future versions `DataFrame.to_latex` is expected to utilise the base implementation of `Styler.to_latex` for formatting and rendering. The arguments signature may therefore change. It is recommended instead to use `DataFrame.style.to_latex` which also contains additional functionality.\n",
      "  return self.summary.to_latex()\n"
     ]
    },
    {
     "data": {
      "text/html": [
       "<div>\n",
       "<style scoped>\n",
       "    .dataframe tbody tr th:only-of-type {\n",
       "        vertical-align: middle;\n",
       "    }\n",
       "\n",
       "    .dataframe tbody tr th {\n",
       "        vertical-align: top;\n",
       "    }\n",
       "\n",
       "    .dataframe thead th {\n",
       "        text-align: right;\n",
       "    }\n",
       "</style>\n",
       "<table border=\"1\" class=\"dataframe\">\n",
       "  <tbody>\n",
       "    <tr>\n",
       "      <th>time_transform</th>\n",
       "      <td>rank</td>\n",
       "    </tr>\n",
       "    <tr>\n",
       "      <th>null_distribution</th>\n",
       "      <td>chi squared</td>\n",
       "    </tr>\n",
       "    <tr>\n",
       "      <th>degrees_of_freedom</th>\n",
       "      <td>1</td>\n",
       "    </tr>\n",
       "    <tr>\n",
       "      <th>model</th>\n",
       "      <td>&lt;lifelines.CoxPHFitter: fitted with 131 total ...</td>\n",
       "    </tr>\n",
       "    <tr>\n",
       "      <th>test_name</th>\n",
       "      <td>proportional_hazard_test</td>\n",
       "    </tr>\n",
       "  </tbody>\n",
       "</table>\n",
       "</div><table border=\"1\" class=\"dataframe\">\n",
       "  <thead>\n",
       "    <tr style=\"text-align: right;\">\n",
       "      <th></th>\n",
       "      <th>test_statistic</th>\n",
       "      <th>p</th>\n",
       "      <th>-log2(p)</th>\n",
       "    </tr>\n",
       "  </thead>\n",
       "  <tbody>\n",
       "    <tr>\n",
       "      <th>ADO_proteomics</th>\n",
       "      <td>0.03</td>\n",
       "      <td>0.86</td>\n",
       "      <td>0.22</td>\n",
       "    </tr>\n",
       "    <tr>\n",
       "      <th>CSAD_proteomics</th>\n",
       "      <td>0.01</td>\n",
       "      <td>0.93</td>\n",
       "      <td>0.10</td>\n",
       "    </tr>\n",
       "    <tr>\n",
       "      <th>GAD2_proteomics</th>\n",
       "      <td>1.39</td>\n",
       "      <td>0.24</td>\n",
       "      <td>2.07</td>\n",
       "    </tr>\n",
       "    <tr>\n",
       "      <th>GGT1_proteomics</th>\n",
       "      <td>0.19</td>\n",
       "      <td>0.67</td>\n",
       "      <td>0.59</td>\n",
       "    </tr>\n",
       "    <tr>\n",
       "      <th>LRRC8A_proteomics</th>\n",
       "      <td>0.00</td>\n",
       "      <td>0.96</td>\n",
       "      <td>0.06</td>\n",
       "    </tr>\n",
       "    <tr>\n",
       "      <th>LRRC8C_proteomics</th>\n",
       "      <td>0.01</td>\n",
       "      <td>0.91</td>\n",
       "      <td>0.13</td>\n",
       "    </tr>\n",
       "    <tr>\n",
       "      <th>LRRC8D_proteomics</th>\n",
       "      <td>5.67</td>\n",
       "      <td>0.02</td>\n",
       "      <td>5.86</td>\n",
       "    </tr>\n",
       "    <tr>\n",
       "      <th>PHGDH_proteomics</th>\n",
       "      <td>0.06</td>\n",
       "      <td>0.80</td>\n",
       "      <td>0.32</td>\n",
       "    </tr>\n",
       "    <tr>\n",
       "      <th>SLC36A1_proteomics</th>\n",
       "      <td>0.01</td>\n",
       "      <td>0.92</td>\n",
       "      <td>0.12</td>\n",
       "    </tr>\n",
       "    <tr>\n",
       "      <th>SLC6A6_proteomics</th>\n",
       "      <td>0.39</td>\n",
       "      <td>0.53</td>\n",
       "      <td>0.91</td>\n",
       "    </tr>\n",
       "    <tr>\n",
       "      <th>STAT5A_proteomics</th>\n",
       "      <td>1.63</td>\n",
       "      <td>0.20</td>\n",
       "      <td>2.31</td>\n",
       "    </tr>\n",
       "    <tr>\n",
       "      <th>STAT5B_proteomics</th>\n",
       "      <td>0.34</td>\n",
       "      <td>0.56</td>\n",
       "      <td>0.83</td>\n",
       "    </tr>\n",
       "    <tr>\n",
       "      <th>tumor_stage_pathological</th>\n",
       "      <td>0.96</td>\n",
       "      <td>0.33</td>\n",
       "      <td>1.61</td>\n",
       "    </tr>\n",
       "  </tbody>\n",
       "</table>"
      ],
      "text/latex": [
       "\\begin{tabular}{lrrr}\n",
       "\\toprule\n",
       "{} &  test\\_statistic &         p &  -log2(p) \\\\\n",
       "\\midrule\n",
       "ADO\\_proteomics           &        0.030526 &  0.861301 &  0.215410 \\\\\n",
       "CSAD\\_proteomics          &        0.007685 &  0.930145 &  0.104472 \\\\\n",
       "GAD2\\_proteomics          &        1.394881 &  0.237583 &  2.073499 \\\\\n",
       "GGT1\\_proteomics          &        0.186107 &  0.666177 &  0.586023 \\\\\n",
       "LRRC8A\\_proteomics        &        0.003002 &  0.956303 &  0.064460 \\\\\n",
       "LRRC8C\\_proteomics        &        0.011552 &  0.914407 &  0.129091 \\\\\n",
       "LRRC8D\\_proteomics        &        5.668200 &  0.017275 &  5.855156 \\\\\n",
       "PHGDH\\_proteomics         &        0.063175 &  0.801546 &  0.319143 \\\\\n",
       "SLC36A1\\_proteomics       &        0.009815 &  0.921083 &  0.118596 \\\\\n",
       "SLC6A6\\_proteomics        &        0.389478 &  0.532574 &  0.908946 \\\\\n",
       "STAT5A\\_proteomics        &        1.634717 &  0.201052 &  2.314360 \\\\\n",
       "STAT5B\\_proteomics        &        0.338235 &  0.560850 &  0.834314 \\\\\n",
       "tumor\\_stage\\_pathological &        0.956474 &  0.328077 &  1.607895 \\\\\n",
       "\\bottomrule\n",
       "\\end{tabular}\n"
      ],
      "text/plain": [
       "<lifelines.StatisticalResult: proportional_hazard_test>\n",
       "    time_transform = rank\n",
       " null_distribution = chi squared\n",
       "degrees_of_freedom = 1\n",
       "             model = <lifelines.CoxPHFitter: fitted with 131 total observations, 57 right-censored observations>\n",
       "         test_name = proportional_hazard_test\n",
       "\n",
       "---\n",
       "                          test_statistic    p  -log2(p)\n",
       "ADO_proteomics                      0.03 0.86      0.22\n",
       "CSAD_proteomics                     0.01 0.93      0.10\n",
       "GAD2_proteomics                     1.39 0.24      2.07\n",
       "GGT1_proteomics                     0.19 0.67      0.59\n",
       "LRRC8A_proteomics                   0.00 0.96      0.06\n",
       "LRRC8C_proteomics                   0.01 0.91      0.13\n",
       "LRRC8D_proteomics                   5.67 0.02      5.86\n",
       "PHGDH_proteomics                    0.06 0.80      0.32\n",
       "SLC36A1_proteomics                  0.01 0.92      0.12\n",
       "SLC6A6_proteomics                   0.39 0.53      0.91\n",
       "STAT5A_proteomics                   1.63 0.20      2.31\n",
       "STAT5B_proteomics                   0.34 0.56      0.83\n",
       "tumor_stage_pathological            0.96 0.33      1.61"
      ]
     },
     "metadata": {},
     "output_type": "display_data"
    }
   ],
   "source": [
    "results = proportional_hazard_test(cph, df_clean, time_transform='rank')\n",
    "results.print_summary(decimals=3, model=\"untransformed variables\")"
   ]
  },
  {
   "cell_type": "markdown",
   "metadata": {},
   "source": [
    "Below, we show confidence intervals for each of the hazard ratios.  Since both bars include the log(HR) of 1.0 and both of their p-values were greater than 0.05, there is insufficient evidence to suggest that a specific Histologic Grade or Tumor Stage is connected with negative clinical outcomes of death or the development of a new tumor *in our cohort of Ovarian cancer tumors*."
   ]
  },
  {
   "cell_type": "code",
   "execution_count": 47,
   "metadata": {},
   "outputs": [
    {
     "data": {
      "image/png": "[encoded data removed]",
      "text/plain": [
       "<Figure size 432x288 with 1 Axes>"
      ]
     },
     "metadata": {
      "needs_background": "light"
     },
     "output_type": "display_data"
    }
   ],
   "source": [
    "cph.plot()\n",
    "plt.tight_layout()"
   ]
  },
  {
   "cell_type": "markdown",
   "metadata": {},
   "source": [
    "# Closing Remarks\n",
    "It is important to note that there are relatively few patients who died in our cohort (7 out of 88), which is good, but with such a small sample size of death events, it is difficult to conclude with certainty that these features are not more or less connected with survival.  Perhaps a sample of patients with more deaths might have different results.  Alternatively, studying an event with more negative outcomes (such as tumor recurrence) may also provide more data to work with."
   ]
  },
  {
   "cell_type": "code",
   "execution_count": 48,
   "metadata": {},
   "outputs": [
    {
     "data": {
      "text/plain": [
       "True     74\n",
       "False    57\n",
       "Name: vital_status, dtype: int64"
      ]
     },
     "execution_count": 48,
     "metadata": {},
     "output_type": "execute_result"
    }
   ],
   "source": [
    "df_clean['vital_status'].value_counts()"
   ]
  },
  {
   "cell_type": "markdown",
   "metadata": {},
   "source": [
    "It is also important to note that the confidence intervals for these ratios are very large, especially since hazard ratios are standardly shown on a log-scale."
   ]
  },
  {
   "cell_type": "code",
   "execution_count": 49,
   "metadata": {},
   "outputs": [
    {
     "data": {
      "text/html": [
       "<div>\n",
       "<style scoped>\n",
       "    .dataframe tbody tr th:only-of-type {\n",
       "        vertical-align: middle;\n",
       "    }\n",
       "\n",
       "    .dataframe tbody tr th {\n",
       "        vertical-align: top;\n",
       "    }\n",
       "\n",
       "    .dataframe thead th {\n",
       "        text-align: right;\n",
       "    }\n",
       "</style>\n",
       "<table border=\"1\" class=\"dataframe\">\n",
       "  <thead>\n",
       "    <tr style=\"text-align: right;\">\n",
       "      <th></th>\n",
       "      <th>95% lower-bound</th>\n",
       "      <th>95% upper-bound</th>\n",
       "    </tr>\n",
       "    <tr>\n",
       "      <th>covariate</th>\n",
       "      <th></th>\n",
       "      <th></th>\n",
       "    </tr>\n",
       "  </thead>\n",
       "  <tbody>\n",
       "    <tr>\n",
       "      <th>tumor_stage_pathological</th>\n",
       "      <td>0.108261</td>\n",
       "      <td>0.760604</td>\n",
       "    </tr>\n",
       "    <tr>\n",
       "      <th>ADO_proteomics</th>\n",
       "      <td>-0.559122</td>\n",
       "      <td>0.147799</td>\n",
       "    </tr>\n",
       "    <tr>\n",
       "      <th>CSAD_proteomics</th>\n",
       "      <td>-0.170637</td>\n",
       "      <td>1.330847</td>\n",
       "    </tr>\n",
       "    <tr>\n",
       "      <th>LRRC8A_proteomics</th>\n",
       "      <td>-0.233416</td>\n",
       "      <td>0.491018</td>\n",
       "    </tr>\n",
       "    <tr>\n",
       "      <th>LRRC8C_proteomics</th>\n",
       "      <td>-0.924153</td>\n",
       "      <td>0.033955</td>\n",
       "    </tr>\n",
       "    <tr>\n",
       "      <th>LRRC8D_proteomics</th>\n",
       "      <td>-0.432662</td>\n",
       "      <td>0.677901</td>\n",
       "    </tr>\n",
       "    <tr>\n",
       "      <th>PHGDH_proteomics</th>\n",
       "      <td>-0.133507</td>\n",
       "      <td>0.534080</td>\n",
       "    </tr>\n",
       "    <tr>\n",
       "      <th>SLC6A6_proteomics</th>\n",
       "      <td>-1.215006</td>\n",
       "      <td>0.311178</td>\n",
       "    </tr>\n",
       "    <tr>\n",
       "      <th>SLC36A1_proteomics</th>\n",
       "      <td>-0.098151</td>\n",
       "      <td>1.396242</td>\n",
       "    </tr>\n",
       "    <tr>\n",
       "      <th>STAT5A_proteomics</th>\n",
       "      <td>-0.409608</td>\n",
       "      <td>0.308607</td>\n",
       "    </tr>\n",
       "    <tr>\n",
       "      <th>STAT5B_proteomics</th>\n",
       "      <td>-0.631664</td>\n",
       "      <td>0.152258</td>\n",
       "    </tr>\n",
       "    <tr>\n",
       "      <th>GGT1_proteomics</th>\n",
       "      <td>-0.398335</td>\n",
       "      <td>0.349557</td>\n",
       "    </tr>\n",
       "    <tr>\n",
       "      <th>GAD2_proteomics</th>\n",
       "      <td>-0.445139</td>\n",
       "      <td>0.512516</td>\n",
       "    </tr>\n",
       "  </tbody>\n",
       "</table>\n",
       "</div>"
      ],
      "text/plain": [
       "                          95% lower-bound  95% upper-bound\n",
       "covariate                                                 \n",
       "tumor_stage_pathological         0.108261         0.760604\n",
       "ADO_proteomics                  -0.559122         0.147799\n",
       "CSAD_proteomics                 -0.170637         1.330847\n",
       "LRRC8A_proteomics               -0.233416         0.491018\n",
       "LRRC8C_proteomics               -0.924153         0.033955\n",
       "LRRC8D_proteomics               -0.432662         0.677901\n",
       "PHGDH_proteomics                -0.133507         0.534080\n",
       "SLC6A6_proteomics               -1.215006         0.311178\n",
       "SLC36A1_proteomics              -0.098151         1.396242\n",
       "STAT5A_proteomics               -0.409608         0.308607\n",
       "STAT5B_proteomics               -0.631664         0.152258\n",
       "GGT1_proteomics                 -0.398335         0.349557\n",
       "GAD2_proteomics                 -0.445139         0.512516"
      ]
     },
     "execution_count": 49,
     "metadata": {},
     "output_type": "execute_result"
    }
   ],
   "source": [
    "cph.confidence_intervals_"
   ]
  },
  {
   "cell_type": "markdown",
   "metadata": {},
   "source": [
    "This is just one example of how you might use Survival Analysis to learn more about different types of cancer, and how clinical and/or genetic attributes contribute to likelihood of survival. There are many other clinical and genetic attributes, as well as several other cancer types, that can be explored using a similar process to that above. In particular, lung cancer and ovarian cancer have a larger number of negative outcomes per cohort, and would be good to look into further. "
   ]
  }
 ],
 "metadata": {
  "kernelspec": {
   "display_name": "cptac-final",
   "language": "python",
   "name": "cptac-final"
  },
  "language_info": {
   "codemirror_mode": {
    "name": "ipython",
    "version": 3
   },
   "file_extension": ".py",
   "mimetype": "text/x-python",
   "name": "python",
   "nbconvert_exporter": "python",
   "pygments_lexer": "ipython3",
   "version": "3.8.13"
  }
 },
 "nbformat": 4,
 "nbformat_minor": 4
}
